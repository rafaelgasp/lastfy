{
 "cells": [
  {
   "cell_type": "code",
   "execution_count": 12,
   "metadata": {
    "ExecuteTime": {
     "end_time": "2019-04-17T01:30:33.009698Z",
     "start_time": "2019-04-17T01:30:33.005701Z"
    }
   },
   "outputs": [],
   "source": [
    "import spotipy\n",
    "import pylast\n",
    "import pandas as pd\n",
    "import numpy as np\n",
    "import json\n",
    "from datetime import datetime\n",
    "import calendar\n",
    "import spotipy.util as util\n",
    "from spotipy.oauth2 import SpotifyClientCredentials"
   ]
  },
  {
   "cell_type": "markdown",
   "metadata": {},
   "source": [
    "## LastFM"
   ]
  },
  {
   "cell_type": "code",
   "execution_count": 2,
   "metadata": {
    "ExecuteTime": {
     "end_time": "2019-04-17T01:27:10.481737Z",
     "start_time": "2019-04-17T01:27:10.466745Z"
    }
   },
   "outputs": [],
   "source": [
    "lastfm_api = json.load(open(\"lastfm_api.json\", \"r\"))"
   ]
  },
  {
   "cell_type": "code",
   "execution_count": 3,
   "metadata": {
    "ExecuteTime": {
     "end_time": "2019-04-17T01:27:12.135485Z",
     "start_time": "2019-04-17T01:27:11.193298Z"
    }
   },
   "outputs": [],
   "source": [
    "API_KEY = lastfm_api['API key']\n",
    "API_SECRET = lastfm_api['Shared secret']\n",
    "username = lastfm_api['User']\n",
    "password_hash = lastfm_api['Password_MD5']\n",
    "\n",
    "network = pylast.LastFMNetwork(api_key=API_KEY, api_secret=API_SECRET,\n",
    "                               username=username, password_hash=password_hash)\n",
    "\n",
    "user = pylast.User(user_name=username, network=network)"
   ]
  },
  {
   "cell_type": "code",
   "execution_count": 4,
   "metadata": {
    "ExecuteTime": {
     "end_time": "2019-04-17T01:27:12.279847Z",
     "start_time": "2019-04-17T01:27:12.275852Z"
    }
   },
   "outputs": [],
   "source": [
    "network.enable_rate_limit()"
   ]
  },
  {
   "cell_type": "code",
   "execution_count": 5,
   "metadata": {
    "ExecuteTime": {
     "end_time": "2019-04-17T01:27:12.949197Z",
     "start_time": "2019-04-17T01:27:12.943198Z"
    }
   },
   "outputs": [],
   "source": [
    "dt_from = calendar.timegm(datetime(2017, 12, 1).utctimetuple())\n",
    "dt_to = calendar.timegm(datetime(2017, 12, 31).utctimetuple())"
   ]
  },
  {
   "cell_type": "code",
   "execution_count": 6,
   "metadata": {
    "ExecuteTime": {
     "end_time": "2019-04-17T01:28:12.420398Z",
     "start_time": "2019-04-17T01:27:13.592401Z"
    }
   },
   "outputs": [],
   "source": [
    "data = user.get_recent_tracks(limit=None, time_from=dt_from, time_to=dt_to)"
   ]
  },
  {
   "cell_type": "code",
   "execution_count": 7,
   "metadata": {
    "ExecuteTime": {
     "end_time": "2019-04-17T01:28:12.429377Z",
     "start_time": "2019-04-17T01:28:12.423382Z"
    }
   },
   "outputs": [],
   "source": [
    "def get_track_info(track):\n",
    "    return({\n",
    "        \"Title\": track.title,\n",
    "        \"Artist\": track.artist.name,\n",
    "    })"
   ]
  },
  {
   "cell_type": "code",
   "execution_count": 8,
   "metadata": {
    "ExecuteTime": {
     "end_time": "2019-04-17T01:28:12.584615Z",
     "start_time": "2019-04-17T01:28:12.431377Z"
    }
   },
   "outputs": [
    {
     "data": {
      "text/plain": [
       "{'Title': 'Quem Mando Tu Terminar? (To Bonito To Né?)', 'Artist': 'MC Kekel'}"
      ]
     },
     "execution_count": 8,
     "metadata": {},
     "output_type": "execute_result"
    }
   ],
   "source": [
    "get_track_info(data[0].track)"
   ]
  },
  {
   "cell_type": "code",
   "execution_count": 9,
   "metadata": {
    "ExecuteTime": {
     "end_time": "2019-04-17T01:28:12.744861Z",
     "start_time": "2019-04-17T01:28:12.595609Z"
    }
   },
   "outputs": [],
   "source": [
    "def get_top_tracks(data, n=70):\n",
    "    r = []\n",
    "    for track in data:\n",
    "        r.append(get_track_info(track.track))\n",
    "    \n",
    "    df = pd.DataFrame.from_dict(r)\n",
    "    df = df.reset_index().groupby([\"Title\", \"Artist\"]).count()\n",
    "    df = df.sort_values(\"index\", ascending=False)\n",
    "    if (n > 0):\n",
    "        return df.head(n)\n",
    "    else:\n",
    "        return(df)\n",
    "        "
   ]
  },
  {
   "cell_type": "code",
   "execution_count": 10,
   "metadata": {
    "ExecuteTime": {
     "end_time": "2019-04-17T01:28:12.854971Z",
     "start_time": "2019-04-17T01:28:12.748861Z"
    }
   },
   "outputs": [],
   "source": [
    "df = get_top_tracks(data)"
   ]
  },
  {
   "cell_type": "code",
   "execution_count": 11,
   "metadata": {
    "ExecuteTime": {
     "end_time": "2019-04-17T01:28:13.079761Z",
     "start_time": "2019-04-17T01:28:12.855954Z"
    }
   },
   "outputs": [
    {
     "data": {
      "text/html": [
       "<div>\n",
       "<style scoped>\n",
       "    .dataframe tbody tr th:only-of-type {\n",
       "        vertical-align: middle;\n",
       "    }\n",
       "\n",
       "    .dataframe tbody tr th {\n",
       "        vertical-align: top;\n",
       "    }\n",
       "\n",
       "    .dataframe thead th {\n",
       "        text-align: right;\n",
       "    }\n",
       "</style>\n",
       "<table border=\"1\" class=\"dataframe\">\n",
       "  <thead>\n",
       "    <tr style=\"text-align: right;\">\n",
       "      <th></th>\n",
       "      <th></th>\n",
       "      <th>index</th>\n",
       "    </tr>\n",
       "    <tr>\n",
       "      <th>Title</th>\n",
       "      <th>Artist</th>\n",
       "      <th></th>\n",
       "    </tr>\n",
       "  </thead>\n",
       "  <tbody>\n",
       "    <tr>\n",
       "      <th>Ooorra... (a que deu nome a mixtape)</th>\n",
       "      <th>Emicida</th>\n",
       "      <td>36</td>\n",
       "    </tr>\n",
       "    <tr>\n",
       "      <th>Six Days - Remix</th>\n",
       "      <th>DJ Shadow</th>\n",
       "      <td>15</td>\n",
       "    </tr>\n",
       "    <tr>\n",
       "      <th>Deixe Me Ir - Acústico</th>\n",
       "      <th>1Kilo</th>\n",
       "      <td>12</td>\n",
       "    </tr>\n",
       "    <tr>\n",
       "      <th>Get Away</th>\n",
       "      <th>Big K.R.I.T.</th>\n",
       "      <td>10</td>\n",
       "    </tr>\n",
       "    <tr>\n",
       "      <th>Heartbeats</th>\n",
       "      <th>José González</th>\n",
       "      <td>7</td>\n",
       "    </tr>\n",
       "  </tbody>\n",
       "</table>\n",
       "</div>"
      ],
      "text/plain": [
       "                                                    index\n",
       "Title                                Artist              \n",
       "Ooorra... (a que deu nome a mixtape) Emicida           36\n",
       "Six Days - Remix                     DJ Shadow         15\n",
       "Deixe Me Ir - Acústico               1Kilo             12\n",
       "Get Away                             Big K.R.I.T.      10\n",
       "Heartbeats                           José González      7"
      ]
     },
     "execution_count": 11,
     "metadata": {},
     "output_type": "execute_result"
    }
   ],
   "source": [
    "df.head()"
   ]
  },
  {
   "cell_type": "markdown",
   "metadata": {},
   "source": [
    "## Spotify"
   ]
  },
  {
   "cell_type": "code",
   "execution_count": 96,
   "metadata": {
    "ExecuteTime": {
     "end_time": "2019-04-17T01:20:52.014887Z",
     "start_time": "2019-04-17T01:20:52.009888Z"
    }
   },
   "outputs": [],
   "source": [
    "spotify_api = json.load(open(\"spotify_api.json\", \"r\"))"
   ]
  },
  {
   "cell_type": "code",
   "execution_count": 97,
   "metadata": {
    "ExecuteTime": {
     "end_time": "2019-04-17T01:20:52.354690Z",
     "start_time": "2019-04-17T01:20:52.333703Z"
    }
   },
   "outputs": [
    {
     "data": {
      "text/plain": [
       "{'Application Name': 'LastFy',\n",
       " 'Username': 'gasp311',\n",
       " 'Client ID': 'd234876184c443e6a59df57008eb7b07',\n",
       " 'Client Secret': '95248e65e2af478dac041b4adc7325a2'}"
      ]
     },
     "execution_count": 97,
     "metadata": {},
     "output_type": "execute_result"
    }
   ],
   "source": [
    "spotify_api"
   ]
  },
  {
   "cell_type": "code",
   "execution_count": 100,
   "metadata": {
    "ExecuteTime": {
     "end_time": "2019-04-17T01:25:19.108522Z",
     "start_time": "2019-04-17T01:25:19.024906Z"
    }
   },
   "outputs": [],
   "source": []
  },
  {
   "cell_type": "code",
   "execution_count": null,
   "metadata": {
    "ExecuteTime": {
     "start_time": "2019-04-17T01:25:31.236Z"
    }
   },
   "outputs": [],
   "source": [
    "spotify = spotipy.Spotify()\n",
    "token = util.prompt_for_user_token(username, \n",
    "                                   scope='playlist-modify-private,playlist-modify-public', \n",
    "                                   client_id='enter_client_id', \n",
    "                                   client_secret='enter_client_secret', redirect_uri='https://localhost:8080')"
   ]
  }
 ],
 "metadata": {
  "kernelspec": {
   "display_name": "Python 3",
   "language": "python",
   "name": "python3"
  },
  "language_info": {
   "codemirror_mode": {
    "name": "ipython",
    "version": 3
   },
   "file_extension": ".py",
   "mimetype": "text/x-python",
   "name": "python",
   "nbconvert_exporter": "python",
   "pygments_lexer": "ipython3",
   "version": "3.7.1"
  },
  "toc": {
   "base_numbering": 1,
   "nav_menu": {},
   "number_sections": true,
   "sideBar": true,
   "skip_h1_title": false,
   "title_cell": "Table of Contents",
   "title_sidebar": "Contents",
   "toc_cell": false,
   "toc_position": {},
   "toc_section_display": true,
   "toc_window_display": false
  }
 },
 "nbformat": 4,
 "nbformat_minor": 2
}
